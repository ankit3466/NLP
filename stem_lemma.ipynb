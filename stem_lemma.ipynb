{
  "nbformat": 4,
  "nbformat_minor": 0,
  "metadata": {
    "colab": {
      "name": "stem_lemma.ipynb",
      "version": "0.3.2",
      "provenance": []
    },
    "kernelspec": {
      "name": "python3",
      "display_name": "Python 3"
    }
  },
  "cells": [
    {
      "cell_type": "code",
      "metadata": {
        "id": "h7gQLv6veA3b",
        "colab_type": "code",
        "colab": {}
      },
      "source": [
        "import nltk\n",
        "from nltk.stem import PorterStemmer            # for stemming\n",
        "from nltk.stem import WordNetLemmatizer        # lemma"
      ],
      "execution_count": 0,
      "outputs": []
    },
    {
      "cell_type": "code",
      "metadata": {
        "id": "wIt1MV61eQK5",
        "colab_type": "code",
        "colab": {}
      },
      "source": [
        "# steeming\n",
        "port=PorterStemmer()\n",
        "\n",
        "\n",
        "\n",
        "lema=WordNetLemmatizer()"
      ],
      "execution_count": 0,
      "outputs": []
    },
    {
      "cell_type": "code",
      "metadata": {
        "id": "b9ftuh_Ge47o",
        "colab_type": "code",
        "outputId": "88c007c9-2e7a-4321-8568-607f32383b8a",
        "colab": {
          "base_uri": "https://localhost:8080/",
          "height": 34
        }
      },
      "source": [
        "port.stem('going')"
      ],
      "execution_count": 0,
      "outputs": [
        {
          "output_type": "execute_result",
          "data": {
            "text/plain": [
              "'go'"
            ]
          },
          "metadata": {
            "tags": []
          },
          "execution_count": 3
        }
      ]
    },
    {
      "cell_type": "code",
      "metadata": {
        "id": "Pp65DcT8eaZy",
        "colab_type": "code",
        "outputId": "95a46863-a785-4adf-ef02-f81492603f75",
        "colab": {
          "base_uri": "https://localhost:8080/",
          "height": 151
        }
      },
      "source": [
        "# word suppy\n",
        "for i in ['going','goes','gone','intelligent','excillent','happy','working','intellegency']:\n",
        "  print(port.stem(i))"
      ],
      "execution_count": 0,
      "outputs": [
        {
          "output_type": "stream",
          "text": [
            "go\n",
            "goe\n",
            "gone\n",
            "intellig\n",
            "excil\n",
            "happi\n",
            "work\n",
            "intelleg\n"
          ],
          "name": "stdout"
        }
      ]
    },
    {
      "cell_type": "code",
      "metadata": {
        "id": "A_fjj3u4fUQO",
        "colab_type": "code",
        "outputId": "bfeec966-2a9c-4b6c-ffb2-440306d7da11",
        "colab": {
          "base_uri": "https://localhost:8080/",
          "height": 151
        }
      },
      "source": [
        "# word suppy\n",
        "for i in ['going','goes','gone','intelligent','excillent','happy','working','intellegency']:\n",
        "  print(lema.lemmatize(i))"
      ],
      "execution_count": 0,
      "outputs": [
        {
          "output_type": "stream",
          "text": [
            "going\n",
            "go\n",
            "gone\n",
            "intelligent\n",
            "excillent\n",
            "happy\n",
            "working\n",
            "intellegency\n"
          ],
          "name": "stdout"
        }
      ]
    },
    {
      "cell_type": "code",
      "metadata": {
        "id": "BtqPfSMeUCn1",
        "colab_type": "code",
        "outputId": "ef612d39-c414-4db4-a665-b7abd09c52f5",
        "colab": {
          "base_uri": "https://localhost:8080/",
          "height": 67
        }
      },
      "source": [
        "nltk.download('wordnet')"
      ],
      "execution_count": 0,
      "outputs": [
        {
          "output_type": "stream",
          "text": [
            "[nltk_data] Downloading package wordnet to /root/nltk_data...\n",
            "[nltk_data]   Unzipping corpora/wordnet.zip.\n"
          ],
          "name": "stdout"
        },
        {
          "output_type": "execute_result",
          "data": {
            "text/plain": [
              "True"
            ]
          },
          "metadata": {
            "tags": []
          },
          "execution_count": 8
        }
      ]
    },
    {
      "cell_type": "code",
      "metadata": {
        "id": "j50beaV3USv2",
        "colab_type": "code",
        "colab": {}
      },
      "source": [
        ""
      ],
      "execution_count": 0,
      "outputs": []
    }
  ]
}