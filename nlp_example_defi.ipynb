{
  "nbformat": 4,
  "nbformat_minor": 0,
  "metadata": {
    "colab": {
      "name": "nlp_example_defi.ipynb",
      "version": "0.3.2",
      "provenance": [],
      "collapsed_sections": []
    },
    "kernelspec": {
      "name": "python3",
      "display_name": "Python 3"
    }
  },
  "cells": [
    {
      "cell_type": "code",
      "metadata": {
        "id": "xHwL1iy3hQOr",
        "colab_type": "code",
        "colab": {}
      },
      "source": [
        "from nltk.corpus import wordnet\n",
        "import nltk\n",
        "import time"
      ],
      "execution_count": 0,
      "outputs": []
    },
    {
      "cell_type": "code",
      "metadata": {
        "id": "HlCpaIFkhwmN",
        "colab_type": "code",
        "outputId": "226fa3e0-505c-4f45-832a-bcf36b5aba3b",
        "colab": {
          "base_uri": "https://localhost:8080/",
          "height": 67
        }
      },
      "source": [
        "nltk.download('wordnet')"
      ],
      "execution_count": 0,
      "outputs": [
        {
          "output_type": "stream",
          "text": [
            "[nltk_data] Downloading package wordnet to /root/nltk_data...\n",
            "[nltk_data]   Unzipping corpora/wordnet.zip.\n"
          ],
          "name": "stdout"
        },
        {
          "output_type": "execute_result",
          "data": {
            "text/plain": [
              "True"
            ]
          },
          "metadata": {
            "tags": []
          },
          "execution_count": 5
        }
      ]
    },
    {
      "cell_type": "code",
      "metadata": {
        "id": "DipiB0mHhdxk",
        "colab_type": "code",
        "colab": {}
      },
      "source": [
        "ws=wordnet.synsets('work')    # lemma word pass"
      ],
      "execution_count": 0,
      "outputs": []
    },
    {
      "cell_type": "code",
      "metadata": {
        "id": "mM0MkGpVhrDv",
        "colab_type": "code",
        "outputId": "0c064dc0-377a-4bd2-8e7a-d6ebcc2be4b4",
        "colab": {
          "base_uri": "https://localhost:8080/",
          "height": 588
        }
      },
      "source": [
        "ws"
      ],
      "execution_count": 0,
      "outputs": [
        {
          "output_type": "execute_result",
          "data": {
            "text/plain": [
              "[Synset('work.n.01'),\n",
              " Synset('work.n.02'),\n",
              " Synset('employment.n.02'),\n",
              " Synset('study.n.02'),\n",
              " Synset('work.n.05'),\n",
              " Synset('workplace.n.01'),\n",
              " Synset('oeuvre.n.01'),\n",
              " Synset('work.v.01'),\n",
              " Synset('work.v.02'),\n",
              " Synset('work.v.03'),\n",
              " Synset('function.v.01'),\n",
              " Synset('work.v.05'),\n",
              " Synset('exercise.v.03'),\n",
              " Synset('make.v.36'),\n",
              " Synset('work.v.08'),\n",
              " Synset('work.v.09'),\n",
              " Synset('work.v.10'),\n",
              " Synset('bring.v.03'),\n",
              " Synset('work.v.12'),\n",
              " Synset('cultivate.v.02'),\n",
              " Synset('work.v.14'),\n",
              " Synset('influence.v.01'),\n",
              " Synset('work.v.16'),\n",
              " Synset('work.v.17'),\n",
              " Synset('work.v.18'),\n",
              " Synset('work.v.19'),\n",
              " Synset('shape.v.02'),\n",
              " Synset('work.v.21'),\n",
              " Synset('knead.v.01'),\n",
              " Synset('exploit.v.01'),\n",
              " Synset('solve.v.01'),\n",
              " Synset('ferment.v.03'),\n",
              " Synset('sour.v.01'),\n",
              " Synset('work.v.27')]"
            ]
          },
          "metadata": {
            "tags": []
          },
          "execution_count": 7
        }
      ]
    },
    {
      "cell_type": "code",
      "metadata": {
        "id": "RB5MaibAh4HC",
        "colab_type": "code",
        "outputId": "f9a7b4f3-04fc-418a-f4f5-fb93f9343073",
        "colab": {
          "base_uri": "https://localhost:8080/",
          "height": 34
        }
      },
      "source": [
        "len(ws)"
      ],
      "execution_count": 0,
      "outputs": [
        {
          "output_type": "execute_result",
          "data": {
            "text/plain": [
              "34"
            ]
          },
          "metadata": {
            "tags": []
          },
          "execution_count": 8
        }
      ]
    },
    {
      "cell_type": "code",
      "metadata": {
        "id": "qy3izhxnh5-i",
        "colab_type": "code",
        "outputId": "8b619aa2-fe56-43ab-c600-0e5f54509de4",
        "colab": {
          "base_uri": "https://localhost:8080/",
          "height": 34
        }
      },
      "source": [
        "ws[0].definition()"
      ],
      "execution_count": 0,
      "outputs": [
        {
          "output_type": "execute_result",
          "data": {
            "text/plain": [
              "'activity directed toward making or doing something'"
            ]
          },
          "metadata": {
            "tags": []
          },
          "execution_count": 9
        }
      ]
    },
    {
      "cell_type": "code",
      "metadata": {
        "id": "ed9KtCyQh-I-",
        "colab_type": "code",
        "outputId": "0105ebc5-7e45-4aa3-e425-10de9d839ef6",
        "colab": {
          "base_uri": "https://localhost:8080/",
          "height": 34
        }
      },
      "source": [
        "ws[1].definition()"
      ],
      "execution_count": 0,
      "outputs": [
        {
          "output_type": "execute_result",
          "data": {
            "text/plain": [
              "'a product produced or accomplished through the effort or activity or agency of a person or thing'"
            ]
          },
          "metadata": {
            "tags": []
          },
          "execution_count": 11
        }
      ]
    },
    {
      "cell_type": "code",
      "metadata": {
        "id": "_Id6Dtizh_-_",
        "colab_type": "code",
        "outputId": "6d85806a-cc41-4daf-cad3-d66419538ea1",
        "colab": {
          "base_uri": "https://localhost:8080/",
          "height": 34
        }
      },
      "source": [
        "ws[0].examples()"
      ],
      "execution_count": 0,
      "outputs": [
        {
          "output_type": "execute_result",
          "data": {
            "text/plain": [
              "['she checked several points needing further work']"
            ]
          },
          "metadata": {
            "tags": []
          },
          "execution_count": 13
        }
      ]
    },
    {
      "cell_type": "code",
      "metadata": {
        "id": "CgpqgNhOiEnP",
        "colab_type": "code",
        "outputId": "690d6f0c-d60f-4027-a485-cc0618ba5814",
        "colab": {
          "base_uri": "https://localhost:8080/",
          "height": 101
        }
      },
      "source": [
        "ws[1].examples()"
      ],
      "execution_count": 0,
      "outputs": [
        {
          "output_type": "execute_result",
          "data": {
            "text/plain": [
              "['it is not regarded as one of his more memorable works',\n",
              " 'the symphony was hailed as an ingenious work',\n",
              " 'he was indebted to the pioneering work of John Dewey',\n",
              " 'the work of an active imagination',\n",
              " 'erosion is the work of wind or water over time']"
            ]
          },
          "metadata": {
            "tags": []
          },
          "execution_count": 14
        }
      ]
    },
    {
      "cell_type": "code",
      "metadata": {
        "id": "1seb717WiJfb",
        "colab_type": "code",
        "outputId": "c7f7c16d-7356-40e2-e6e0-c901cac505e4",
        "colab": {
          "base_uri": "https://localhost:8080/",
          "height": 739
        }
      },
      "source": [
        "# exploring all the book\n",
        "msg=input(\"enter your key word you want to know about :--\")\n",
        "for i in wordnet.synsets(msg):                                            # this will explore all the books according standford univ\n",
        "  print(i.definition())                       # tells definition\n",
        "  print(\"_________\")\n",
        "  print(i.examples())                     # tells example\n",
        "  time.sleep(5)                         "
      ],
      "execution_count": 0,
      "outputs": [
        {
          "output_type": "stream",
          "text": [
            "enter your key word you want to know about :--Game\n",
            "a contest with rules to determine a winner\n",
            "_________\n",
            "['you need four people to play this game']\n",
            "a single play of a sport or other contest\n",
            "_________\n",
            "['the game lasted two hours']\n",
            "an amusement or pastime\n",
            "_________\n",
            "['they played word games', 'he thought of his painting as a game that filled his empty time', 'his life was all fun and games']\n",
            "animal hunted for food or sport\n",
            "_________\n",
            "[]\n",
            "(tennis) a division of play during which one player serves\n",
            "_________\n",
            "[]\n",
            "(games) the score at a particular point or the score needed to win\n",
            "_________\n",
            "['the game is 6 all', 'he is serving for the game']\n",
            "the flesh of wild animals that is used for food\n",
            "_________\n",
            "[]\n",
            "a secret scheme to do something (especially something underhand or illegal)\n",
            "_________\n",
            "['they concocted a plot to discredit the governor', 'I saw through his little game from the start']\n",
            "the game equipment needed in order to play a particular game\n",
            "_________\n",
            "['the child received several games for his birthday']\n",
            "your occupation or line of work\n",
            "_________\n",
            "[\"he's in the plumbing game\", \"she's in show biz\"]\n",
            "frivolous or trifling behavior\n",
            "_________\n",
            "['for actors, memorizing lines is no game', 'for him, life is all fun and games']\n",
            "place a bet on\n",
            "_________\n",
            "['Which horse are you backing?', \"I'm betting on the new horse\"]\n",
            "disabled in the feet or legs\n",
            "_________\n",
            "['a crippled soldier', 'a game leg']\n",
            "willing to face danger\n",
            "_________\n",
            "[]\n"
          ],
          "name": "stdout"
        }
      ]
    },
    {
      "cell_type": "code",
      "metadata": {
        "id": "3N6pULOsjRxo",
        "colab_type": "code",
        "colab": {}
      },
      "source": [
        ""
      ],
      "execution_count": 0,
      "outputs": []
    }
  ]
}