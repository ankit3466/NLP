{
  "nbformat": 4,
  "nbformat_minor": 0,
  "metadata": {
    "colab": {
      "name": "Sentiment.ipynb",
      "version": "0.3.2",
      "provenance": [],
      "collapsed_sections": []
    },
    "kernelspec": {
      "name": "python3",
      "display_name": "Python 3"
    }
  },
  "cells": [
    {
      "cell_type": "code",
      "metadata": {
        "id": "KxgA1gzzyQWl",
        "colab_type": "code",
        "colab": {}
      },
      "source": [
        "import vaderSentiment"
      ],
      "execution_count": 0,
      "outputs": []
    },
    {
      "cell_type": "code",
      "metadata": {
        "id": "t-Q4FFLvybD1",
        "colab_type": "code",
        "outputId": "2dda11d5-917b-4b36-aec8-fe2b19e3cf6c",
        "colab": {
          "base_uri": "https://localhost:8080/",
          "height": 101
        }
      },
      "source": [
        "!pip install vaderSentiment"
      ],
      "execution_count": 0,
      "outputs": [
        {
          "output_type": "stream",
          "text": [
            "Collecting vaderSentiment\n",
            "\u001b[?25l  Downloading https://files.pythonhosted.org/packages/86/9e/c53e1fc61aac5ee490a6ac5e21b1ac04e55a7c2aba647bb8411c9aadf24e/vaderSentiment-3.2.1-py2.py3-none-any.whl (125kB)\n",
            "\u001b[K     |████████████████████████████████| 133kB 2.8MB/s \n",
            "\u001b[?25hInstalling collected packages: vaderSentiment\n",
            "Successfully installed vaderSentiment-3.2.1\n"
          ],
          "name": "stdout"
        }
      ]
    },
    {
      "cell_type": "code",
      "metadata": {
        "id": "EIVDVu8tykgy",
        "colab_type": "code",
        "colab": {}
      },
      "source": [
        "from vaderSentiment.vaderSentiment import SentimentIntensityAnalyzer"
      ],
      "execution_count": 0,
      "outputs": []
    },
    {
      "cell_type": "code",
      "metadata": {
        "id": "5z5mLcBQyuXb",
        "colab_type": "code",
        "colab": {}
      },
      "source": [
        "# calling analyzer\n",
        "analyzer = SentimentIntensityAnalyzer()"
      ],
      "execution_count": 0,
      "outputs": []
    },
    {
      "cell_type": "code",
      "metadata": {
        "id": "SYrLD0OFy6qv",
        "colab_type": "code",
        "colab": {}
      },
      "source": [
        "# defining function\n",
        "\n",
        "def sentiment_score(sentance):\n",
        "  score = analyzer.polarity_scores(sentance)\n",
        "  \n",
        "  print(sentance)\n",
        "  print(score)"
      ],
      "execution_count": 0,
      "outputs": []
    },
    {
      "cell_type": "code",
      "metadata": {
        "id": "VK8AhdWmzR_R",
        "colab_type": "code",
        "outputId": "fe0095e7-fcce-4c1d-91ad-5899bc208e27",
        "colab": {
          "base_uri": "https://localhost:8080/",
          "height": 50
        }
      },
      "source": [
        "sentiment_score('you are good')"
      ],
      "execution_count": 0,
      "outputs": [
        {
          "output_type": "stream",
          "text": [
            "you are good\n",
            "{'neg': 0.0, 'neu': 0.408, 'pos': 0.592, 'compound': 0.4404}\n"
          ],
          "name": "stdout"
        }
      ]
    },
    {
      "cell_type": "code",
      "metadata": {
        "id": "Bpl6hGsgzWfx",
        "colab_type": "code",
        "outputId": "ff339366-de53-4d0e-cecd-dccdd017f5b7",
        "colab": {
          "base_uri": "https://localhost:8080/",
          "height": 50
        }
      },
      "source": [
        "sentiment_score('you was good')"
      ],
      "execution_count": 0,
      "outputs": [
        {
          "output_type": "stream",
          "text": [
            "you was good\n",
            "{'neg': 0.0, 'neu': 0.408, 'pos': 0.592, 'compound': 0.4404}\n"
          ],
          "name": "stdout"
        }
      ]
    },
    {
      "cell_type": "code",
      "metadata": {
        "id": "FwMA26S7zdIA",
        "colab_type": "code",
        "colab": {}
      },
      "source": [
        "# here compound denotes the polarity of sentances\n",
        "# The Compound score is a metric that calculates the sum of all the lexicon ratings which have been normalized between -1(most extreme negative) and +1 (most extreme positive)\n",
        "# laxicon words like----- super , cool , ; , : , ! , !!! , good , execellent , -----ect has their own polarity score\n",
        "\n",
        "# 1. positive sentiment---- Compound score > 0.005\n",
        "# 2. neutral sentiment---- Compound score > -0.005 and < 0.005\n",
        "# 3. negative sentiment---- Compound score <= -0.005"
      ],
      "execution_count": 0,
      "outputs": []
    },
    {
      "cell_type": "code",
      "metadata": {
        "id": "q4pn3TB21Ewe",
        "colab_type": "code",
        "outputId": "a2bcc2e5-b656-4d60-c884-bb48b5ab028d",
        "colab": {
          "base_uri": "https://localhost:8080/",
          "height": 50
        }
      },
      "source": [
        "sentiment_score('yor are supercool')"
      ],
      "execution_count": 0,
      "outputs": [
        {
          "output_type": "stream",
          "text": [
            "yor are supercool\n",
            "{'neg': 0.0, 'neu': 1.0, 'pos': 0.0, 'compound': 0.0}\n"
          ],
          "name": "stdout"
        }
      ]
    },
    {
      "cell_type": "code",
      "metadata": {
        "id": "W9ROA4a41MJg",
        "colab_type": "code",
        "outputId": "20951415-e675-4efb-aa82-e8869f890cf0",
        "colab": {
          "base_uri": "https://localhost:8080/",
          "height": 50
        }
      },
      "source": [
        "sentiment_score('this movie is awesome')"
      ],
      "execution_count": 0,
      "outputs": [
        {
          "output_type": "stream",
          "text": [
            "this movie is awesome\n",
            "{'neg': 0.0, 'neu': 0.423, 'pos': 0.577, 'compound': 0.6249}\n"
          ],
          "name": "stdout"
        }
      ]
    },
    {
      "cell_type": "code",
      "metadata": {
        "id": "sTBa1VtA1VwW",
        "colab_type": "code",
        "outputId": "633619f5-b76b-4fcf-97c4-29cc05fb92ba",
        "colab": {
          "base_uri": "https://localhost:8080/",
          "height": 50
        }
      },
      "source": [
        "sentiment_score('this movie is not so good')"
      ],
      "execution_count": 0,
      "outputs": [
        {
          "output_type": "stream",
          "text": [
            "this movie is not so good\n",
            "{'neg': 0.377, 'neu': 0.623, 'pos': 0.0, 'compound': -0.464}\n"
          ],
          "name": "stdout"
        }
      ]
    },
    {
      "cell_type": "code",
      "metadata": {
        "id": "GNLsqHBQ1d-X",
        "colab_type": "code",
        "outputId": "67213c94-fae6-418e-d903-75bd9161d7df",
        "colab": {
          "base_uri": "https://localhost:8080/",
          "height": 50
        }
      },
      "source": [
        "sentiment_score('this movie is good but quality is very bad')"
      ],
      "execution_count": 0,
      "outputs": [
        {
          "output_type": "stream",
          "text": [
            "this movie is good but quality is very bad\n",
            "{'neg': 0.367, 'neu': 0.495, 'pos': 0.138, 'compound': -0.6416}\n"
          ],
          "name": "stdout"
        }
      ]
    },
    {
      "cell_type": "markdown",
      "metadata": {
        "id": "flk6ZMwb2AME",
        "colab_type": "text"
      },
      "source": [
        "# more on lexicon word"
      ]
    },
    {
      "cell_type": "code",
      "metadata": {
        "id": "BLR10Qqf2DOr",
        "colab_type": "code",
        "outputId": "eeebccc3-c37f-45d5-b44c-93a39a3f9b64",
        "colab": {
          "base_uri": "https://localhost:8080/",
          "height": 50
        }
      },
      "source": [
        "sentiment_score('the food here is good')"
      ],
      "execution_count": 0,
      "outputs": [
        {
          "output_type": "stream",
          "text": [
            "the food here is good\n",
            "{'neg': 0.0, 'neu': 0.58, 'pos': 0.42, 'compound': 0.4404}\n"
          ],
          "name": "stdout"
        }
      ]
    },
    {
      "cell_type": "code",
      "metadata": {
        "id": "AXFJoc6Q2LGw",
        "colab_type": "code",
        "outputId": "ea00a3e1-33b9-43ff-adf8-b5bb3a343f00",
        "colab": {
          "base_uri": "https://localhost:8080/",
          "height": 50
        }
      },
      "source": [
        "sentiment_score('the food here is good !')"
      ],
      "execution_count": 0,
      "outputs": [
        {
          "output_type": "stream",
          "text": [
            "the food here is good !\n",
            "{'neg': 0.0, 'neu': 0.556, 'pos': 0.444, 'compound': 0.4926}\n"
          ],
          "name": "stdout"
        }
      ]
    },
    {
      "cell_type": "code",
      "metadata": {
        "id": "vNgVQCB52OEi",
        "colab_type": "code",
        "outputId": "c7132fbe-777c-477e-bfaa-fdd44432a4e4",
        "colab": {
          "base_uri": "https://localhost:8080/",
          "height": 50
        }
      },
      "source": [
        "sentiment_score('the food here is good !!')"
      ],
      "execution_count": 0,
      "outputs": [
        {
          "output_type": "stream",
          "text": [
            "the food here is good !!\n",
            "{'neg': 0.0, 'neu': 0.589, 'pos': 0.411, 'compound': 0.5399}\n"
          ],
          "name": "stdout"
        }
      ]
    },
    {
      "cell_type": "code",
      "metadata": {
        "id": "9HuQI6Wj2RNf",
        "colab_type": "code",
        "outputId": "1132c38f-9d28-442d-ef1e-c720d9bc9568",
        "colab": {
          "base_uri": "https://localhost:8080/",
          "height": 50
        }
      },
      "source": [
        "sentiment_score('the food here is good !!!')"
      ],
      "execution_count": 0,
      "outputs": [
        {
          "output_type": "stream",
          "text": [
            "the food here is good !!!\n",
            "{'neg': 0.0, 'neu': 0.57, 'pos': 0.43, 'compound': 0.5826}\n"
          ],
          "name": "stdout"
        }
      ]
    },
    {
      "cell_type": "markdown",
      "metadata": {
        "id": "C_-1XZUi2edH",
        "colab_type": "text"
      },
      "source": [
        "# Capitalization"
      ]
    },
    {
      "cell_type": "code",
      "metadata": {
        "id": "YWvzDh_Q2Suc",
        "colab_type": "code",
        "outputId": "0bdbe4be-caab-41fd-f1f2-edd288b86ddc",
        "colab": {
          "base_uri": "https://localhost:8080/",
          "height": 50
        }
      },
      "source": [
        "sentiment_score('the movie is great')"
      ],
      "execution_count": 0,
      "outputs": [
        {
          "output_type": "stream",
          "text": [
            "the movie is great\n",
            "{'neg': 0.0, 'neu': 0.423, 'pos': 0.577, 'compound': 0.6249}\n"
          ],
          "name": "stdout"
        }
      ]
    },
    {
      "cell_type": "code",
      "metadata": {
        "id": "IepiHphq2oIg",
        "colab_type": "code",
        "outputId": "1368eb6f-a286-4354-e11e-ce864f846283",
        "colab": {
          "base_uri": "https://localhost:8080/",
          "height": 50
        }
      },
      "source": [
        "sentiment_score('the movie is GREAT')"
      ],
      "execution_count": 0,
      "outputs": [
        {
          "output_type": "stream",
          "text": [
            "the movie is GREAT\n",
            "{'neg': 0.0, 'neu': 0.383, 'pos': 0.617, 'compound': 0.7034}\n"
          ],
          "name": "stdout"
        }
      ]
    },
    {
      "cell_type": "code",
      "metadata": {
        "id": "ePWzasQ52tAq",
        "colab_type": "code",
        "outputId": "469a2f44-bd93-449a-ca63-ec74125c9d3d",
        "colab": {
          "base_uri": "https://localhost:8080/",
          "height": 50
        }
      },
      "source": [
        "sentiment_score('the movie is GREAT !')"
      ],
      "execution_count": 0,
      "outputs": [
        {
          "output_type": "stream",
          "text": [
            "the movie is GREAT !\n",
            "{'neg': 0.0, 'neu': 0.369, 'pos': 0.631, 'compound': 0.729}\n"
          ],
          "name": "stdout"
        }
      ]
    },
    {
      "cell_type": "markdown",
      "metadata": {
        "id": "pkJZHOlU3CjT",
        "colab_type": "text"
      },
      "source": [
        "# Degree modifiers and Conjuctions"
      ]
    },
    {
      "cell_type": "code",
      "metadata": {
        "id": "jMxRUOQ32548",
        "colab_type": "code",
        "outputId": "ec3491be-189f-4ad9-faa0-14c35138f987",
        "colab": {
          "base_uri": "https://localhost:8080/",
          "height": 50
        }
      },
      "source": [
        "sentiment_score('The food here is good')"
      ],
      "execution_count": 0,
      "outputs": [
        {
          "output_type": "stream",
          "text": [
            "The food here is good\n",
            "{'neg': 0.0, 'neu': 0.58, 'pos': 0.42, 'compound': 0.4404}\n"
          ],
          "name": "stdout"
        }
      ]
    },
    {
      "cell_type": "code",
      "metadata": {
        "id": "LyXZnD3v3Ocn",
        "colab_type": "code",
        "outputId": "bc334dd5-8242-4bf3-892c-47121fa895f5",
        "colab": {
          "base_uri": "https://localhost:8080/",
          "height": 50
        }
      },
      "source": [
        "sentiment_score('The food here is extremely good')         # Degree"
      ],
      "execution_count": 0,
      "outputs": [
        {
          "output_type": "stream",
          "text": [
            "The food here is extremely good\n",
            "{'neg': 0.0, 'neu': 0.61, 'pos': 0.39, 'compound': 0.4927}\n"
          ],
          "name": "stdout"
        }
      ]
    },
    {
      "cell_type": "code",
      "metadata": {
        "id": "T0AHoihB3Z_Q",
        "colab_type": "code",
        "outputId": "ec1380ff-b3b1-4de1-de3d-c9819ce4fe1a",
        "colab": {
          "base_uri": "https://localhost:8080/",
          "height": 50
        }
      },
      "source": [
        "sentiment_score('The food here is marginally good')"
      ],
      "execution_count": 0,
      "outputs": [
        {
          "output_type": "stream",
          "text": [
            "The food here is marginally good\n",
            "{'neg': 0.0, 'neu': 0.657, 'pos': 0.343, 'compound': 0.3832}\n"
          ],
          "name": "stdout"
        }
      ]
    },
    {
      "cell_type": "code",
      "metadata": {
        "id": "nRGOxuCe3ekE",
        "colab_type": "code",
        "outputId": "fd673f0e-0c24-4030-8edb-eba799d1bdaf",
        "colab": {
          "base_uri": "https://localhost:8080/",
          "height": 50
        }
      },
      "source": [
        "# conjunction\n",
        "\n",
        "sentiment_score('The food here is good , but service is bad')"
      ],
      "execution_count": 0,
      "outputs": [
        {
          "output_type": "stream",
          "text": [
            "The food here is good , but service is bad\n",
            "{'neg': 0.347, 'neu': 0.511, 'pos': 0.142, 'compound': -0.5859}\n"
          ],
          "name": "stdout"
        }
      ]
    },
    {
      "cell_type": "code",
      "metadata": {
        "id": "yQA62Fzo3sQz",
        "colab_type": "code",
        "outputId": "e9a11b16-2fac-45f5-a1b1-883ad6e95ce0",
        "colab": {
          "base_uri": "https://localhost:8080/",
          "height": 50
        }
      },
      "source": [
        "sentiment_score('The food here is good , or service is very good')"
      ],
      "execution_count": 0,
      "outputs": [
        {
          "output_type": "stream",
          "text": [
            "The food here is good , or service is very good\n",
            "{'neg': 0.0, 'neu': 0.58, 'pos': 0.42, 'compound': 0.7003}\n"
          ],
          "name": "stdout"
        }
      ]
    },
    {
      "cell_type": "markdown",
      "metadata": {
        "id": "1KXcgypL38rP",
        "colab_type": "text"
      },
      "source": [
        "# Handling Emojis"
      ]
    },
    {
      "cell_type": "code",
      "metadata": {
        "id": "phS2zAUT31yL",
        "colab_type": "code",
        "outputId": "93be89cb-0363-4d8a-e153-19e047a013cd",
        "colab": {
          "base_uri": "https://localhost:8080/",
          "height": 50
        }
      },
      "source": [
        "sentiment_score('😊')"
      ],
      "execution_count": 0,
      "outputs": [
        {
          "output_type": "stream",
          "text": [
            "😊\n",
            "{'neg': 0.0, 'neu': 0.333, 'pos': 0.667, 'compound': 0.7184}\n"
          ],
          "name": "stdout"
        }
      ]
    },
    {
      "cell_type": "code",
      "metadata": {
        "id": "fEzlCQPv4HBm",
        "colab_type": "code",
        "outputId": "526422c2-d761-45be-8367-a24313fe63c7",
        "colab": {
          "base_uri": "https://localhost:8080/",
          "height": 50
        }
      },
      "source": [
        "sentiment_score('😭')"
      ],
      "execution_count": 0,
      "outputs": [
        {
          "output_type": "stream",
          "text": [
            "😭\n",
            "{'neg': 0.608, 'neu': 0.392, 'pos': 0.0, 'compound': -0.4767}\n"
          ],
          "name": "stdout"
        }
      ]
    },
    {
      "cell_type": "code",
      "metadata": {
        "id": "9TFaJvyu4VmB",
        "colab_type": "code",
        "outputId": "878d0bfa-ca10-4e5a-f508-6bfb2fa71196",
        "colab": {
          "base_uri": "https://localhost:8080/",
          "height": 50
        }
      },
      "source": [
        "sentiment_score('😡')"
      ],
      "execution_count": 0,
      "outputs": [
        {
          "output_type": "stream",
          "text": [
            "😡\n",
            "{'neg': 0.0, 'neu': 1.0, 'pos': 0.0, 'compound': 0.0}\n"
          ],
          "name": "stdout"
        }
      ]
    },
    {
      "cell_type": "code",
      "metadata": {
        "id": "VoTJYTeY4dne",
        "colab_type": "code",
        "outputId": "eb42212b-e6ab-4a85-b9d6-f77d7191d302",
        "colab": {
          "base_uri": "https://localhost:8080/",
          "height": 50
        }
      },
      "source": [
        "sentiment_score('😂')"
      ],
      "execution_count": 0,
      "outputs": [
        {
          "output_type": "stream",
          "text": [
            "😂\n",
            "{'neg': 0.218, 'neu': 0.345, 'pos': 0.437, 'compound': 0.4404}\n"
          ],
          "name": "stdout"
        }
      ]
    },
    {
      "cell_type": "code",
      "metadata": {
        "id": "n20p6PuL4sp5",
        "colab_type": "code",
        "outputId": "680e03ab-7a7c-4e5c-dd47-e9c46eab2915",
        "colab": {
          "base_uri": "https://localhost:8080/",
          "height": 50
        }
      },
      "source": [
        "sentiment_score('😒')"
      ],
      "execution_count": 0,
      "outputs": [
        {
          "output_type": "stream",
          "text": [
            "😒\n",
            "{'neg': 0.0, 'neu': 1.0, 'pos': 0.0, 'compound': 0.0}\n"
          ],
          "name": "stdout"
        }
      ]
    },
    {
      "cell_type": "markdown",
      "metadata": {
        "id": "v--b7uZj5isC",
        "colab_type": "text"
      },
      "source": [
        "# Slangs"
      ]
    },
    {
      "cell_type": "code",
      "metadata": {
        "id": "1g3oEM6346by",
        "colab_type": "code",
        "outputId": "c854e22c-ba62-4297-f4a5-403d850c004c",
        "colab": {
          "base_uri": "https://localhost:8080/",
          "height": 50
        }
      },
      "source": [
        "sentiment_score('LOL')"
      ],
      "execution_count": 0,
      "outputs": [
        {
          "output_type": "stream",
          "text": [
            "LOL\n",
            "{'neg': 0.0, 'neu': 0.0, 'pos': 1.0, 'compound': 0.4215}\n"
          ],
          "name": "stdout"
        }
      ]
    },
    {
      "cell_type": "code",
      "metadata": {
        "id": "Xp0VpY1Q5Jii",
        "colab_type": "code",
        "outputId": "834b0e29-37dd-40a1-9227-d1083f3a1a4a",
        "colab": {
          "base_uri": "https://localhost:8080/",
          "height": 50
        }
      },
      "source": [
        "sentiment_score('OMG')"
      ],
      "execution_count": 0,
      "outputs": [
        {
          "output_type": "stream",
          "text": [
            "OMG\n",
            "{'neg': 0.0, 'neu': 1.0, 'pos': 0.0, 'compound': 0.0}\n"
          ],
          "name": "stdout"
        }
      ]
    },
    {
      "cell_type": "code",
      "metadata": {
        "id": "b-PAj7ZX5Nkj",
        "colab_type": "code",
        "outputId": "04ec8854-ae60-4cde-8197-3ece10661cae",
        "colab": {
          "base_uri": "https://localhost:8080/",
          "height": 50
        }
      },
      "source": [
        "sentiment_score('Fuck')"
      ],
      "execution_count": 0,
      "outputs": [
        {
          "output_type": "stream",
          "text": [
            "Fuck\n",
            "{'neg': 1.0, 'neu': 0.0, 'pos': 0.0, 'compound': -0.5423}\n"
          ],
          "name": "stdout"
        }
      ]
    },
    {
      "cell_type": "code",
      "metadata": {
        "id": "X0qh2vUx5Sl3",
        "colab_type": "code",
        "outputId": "bc7dd0ff-ef1e-4876-b8fe-e02322dcec7e",
        "colab": {
          "base_uri": "https://localhost:8080/",
          "height": 50
        }
      },
      "source": [
        "sentiment_score(' today SUX')"
      ],
      "execution_count": 0,
      "outputs": [
        {
          "output_type": "stream",
          "text": [
            " today SUX\n",
            "{'neg': 0.764, 'neu': 0.236, 'pos': 0.0, 'compound': -0.4995}\n"
          ],
          "name": "stdout"
        }
      ]
    },
    {
      "cell_type": "code",
      "metadata": {
        "id": "7tfjarOi5Xo5",
        "colab_type": "code",
        "outputId": "ace9ceaa-2a00-4f79-fb64-ada9d12921c6",
        "colab": {
          "base_uri": "https://localhost:8080/",
          "height": 50
        }
      },
      "source": [
        "sentiment_score('idk')"
      ],
      "execution_count": 0,
      "outputs": [
        {
          "output_type": "stream",
          "text": [
            "idk\n",
            "{'neg': 1.0, 'neu': 0.0, 'pos': 0.0, 'compound': -0.1027}\n"
          ],
          "name": "stdout"
        }
      ]
    },
    {
      "cell_type": "code",
      "metadata": {
        "id": "-m-9nY8G5cv3",
        "colab_type": "code",
        "colab": {}
      },
      "source": [
        ""
      ],
      "execution_count": 0,
      "outputs": []
    }
  ]
}