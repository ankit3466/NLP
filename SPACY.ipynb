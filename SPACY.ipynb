{
  "nbformat": 4,
  "nbformat_minor": 0,
  "metadata": {
    "colab": {
      "name": "SPACY.ipynb",
      "version": "0.3.2",
      "provenance": [],
      "collapsed_sections": []
    },
    "kernelspec": {
      "name": "python3",
      "display_name": "Python 3"
    }
  },
  "cells": [
    {
      "cell_type": "code",
      "metadata": {
        "id": "vi4IC4avZ_YT",
        "colab_type": "code",
        "colab": {}
      },
      "source": [
        "import spacy"
      ],
      "execution_count": 0,
      "outputs": []
    },
    {
      "cell_type": "code",
      "metadata": {
        "id": "l6iqk8h-ednx",
        "colab_type": "code",
        "colab": {}
      },
      "source": [
        "# language en--\n",
        "nlp=spacy.load('en')"
      ],
      "execution_count": 0,
      "outputs": []
    },
    {
      "cell_type": "code",
      "metadata": {
        "id": "hONB2coWesgE",
        "colab_type": "code",
        "colab": {}
      },
      "source": [
        "data=\"hello this is AK and i love to play cricket! Good morning\""
      ],
      "execution_count": 0,
      "outputs": []
    },
    {
      "cell_type": "code",
      "metadata": {
        "id": "Gp1G0qp9fQnF",
        "colab_type": "code",
        "colab": {}
      },
      "source": [
        "new_data=nlp(data)    # automatic tokenize"
      ],
      "execution_count": 0,
      "outputs": []
    },
    {
      "cell_type": "code",
      "metadata": {
        "id": "z0e9KvVFfSQ1",
        "colab_type": "code",
        "outputId": "c52ff54d-12e3-4c18-813c-2c9f8a80237b",
        "colab": {
          "base_uri": "https://localhost:8080/",
          "height": 672
        }
      },
      "source": [
        "for i in new_data:\n",
        "  print(i,\"  lemmatization of word is-->  \",i.lemma_)\n",
        "  print(\"###################\")\n",
        "  print(i,\" POS \",i.pos_)"
      ],
      "execution_count": 0,
      "outputs": [
        {
          "output_type": "stream",
          "text": [
            "hello   lemmatization of word is-->   hello\n",
            "###################\n",
            "hello  POS  INTJ\n",
            "this   lemmatization of word is-->   this\n",
            "###################\n",
            "this  POS  DET\n",
            "is   lemmatization of word is-->   be\n",
            "###################\n",
            "is  POS  VERB\n",
            "AK   lemmatization of word is-->   AK\n",
            "###################\n",
            "AK  POS  PROPN\n",
            "and   lemmatization of word is-->   and\n",
            "###################\n",
            "and  POS  CCONJ\n",
            "i   lemmatization of word is-->   i\n",
            "###################\n",
            "i  POS  PRON\n",
            "love   lemmatization of word is-->   love\n",
            "###################\n",
            "love  POS  VERB\n",
            "to   lemmatization of word is-->   to\n",
            "###################\n",
            "to  POS  PART\n",
            "play   lemmatization of word is-->   play\n",
            "###################\n",
            "play  POS  VERB\n",
            "cricket   lemmatization of word is-->   cricket\n",
            "###################\n",
            "cricket  POS  NOUN\n",
            "!   lemmatization of word is-->   !\n",
            "###################\n",
            "!  POS  PUNCT\n",
            "Good   lemmatization of word is-->   good\n",
            "###################\n",
            "Good  POS  ADJ\n",
            "morning   lemmatization of word is-->   morning\n",
            "###################\n",
            "morning  POS  NOUN\n"
          ],
          "name": "stdout"
        }
      ]
    },
    {
      "cell_type": "code",
      "metadata": {
        "id": "mhe2xzQkfYYB",
        "colab_type": "code",
        "colab": {}
      },
      "source": [
        ""
      ],
      "execution_count": 0,
      "outputs": []
    }
  ]
}