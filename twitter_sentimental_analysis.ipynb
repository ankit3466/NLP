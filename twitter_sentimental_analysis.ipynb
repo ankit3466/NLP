{
  "nbformat": 4,
  "nbformat_minor": 0,
  "metadata": {
    "colab": {
      "name": "twitter_sentimental_analysis.ipynb",
      "version": "0.3.2",
      "provenance": [],
      "collapsed_sections": []
    },
    "kernelspec": {
      "name": "python3",
      "display_name": "Python 3"
    }
  },
  "cells": [
    {
      "cell_type": "code",
      "metadata": {
        "id": "1zrEI3mWI5Z_",
        "colab_type": "code",
        "colab": {}
      },
      "source": [
        "import tweepy\n",
        "import time\n",
        "from textblob import TextBlob"
      ],
      "execution_count": 0,
      "outputs": []
    },
    {
      "cell_type": "code",
      "metadata": {
        "id": "PsrLtmLeK-pH",
        "colab_type": "code",
        "colab": {}
      },
      "source": [
        "from matplotlib import pyplot as plt"
      ],
      "execution_count": 0,
      "outputs": []
    },
    {
      "cell_type": "code",
      "metadata": {
        "id": "Bv6NNJBILfcp",
        "colab_type": "code",
        "colab": {}
      },
      "source": [
        "# all 4 authentication keys to access twitter api\n",
        "# to connect as oath handler or jump server / reverse proxy server\n",
        "consumer_key=\"QIqgjITOfksfMW4lRLDa9889789789cQ\"\n",
        "consumer_sec=\"R8x0xN9iSKXGNxUtGKA2hgnlIhh5IN4328462347892349832ZIOdgEfxzk\"\n",
        "\n",
        "# from proxy server we need to connect to the server of twitter\n",
        "access_token=\"1401204486-BeLUAuruh294KeJX8NXvdqjCeZOQcLl6HWmMl328947392847rnwe,gA\"\n",
        "access_sec=\"pwjiLF42TbORaXtkCS5Oc24qywOU0eFN0esVcibrewrw98rrwA\""
      ],
      "execution_count": 0,
      "outputs": []
    },
    {
      "cell_type": "code",
      "metadata": {
        "id": "qsoPvXl2OILr",
        "colab_type": "code",
        "outputId": "109a455e-91b9-4c55-efe0-dcb0cc830214",
        "colab": {
          "base_uri": "https://localhost:8080/",
          "height": 722
        }
      },
      "source": [
        "# twwepy explore\n",
        "dir(tweepy)"
      ],
      "execution_count": 0,
      "outputs": [
        {
          "output_type": "execute_result",
          "data": {
            "text/plain": [
              "['API',\n",
              " 'AppAuthHandler',\n",
              " 'Cache',\n",
              " 'Category',\n",
              " 'Cursor',\n",
              " 'DirectMessage',\n",
              " 'FileCache',\n",
              " 'Friendship',\n",
              " 'MemoryCache',\n",
              " 'ModelFactory',\n",
              " 'OAuthHandler',\n",
              " 'RateLimitError',\n",
              " 'SavedSearch',\n",
              " 'SearchResults',\n",
              " 'Status',\n",
              " 'Stream',\n",
              " 'StreamListener',\n",
              " 'TweepError',\n",
              " 'User',\n",
              " '__author__',\n",
              " '__builtins__',\n",
              " '__cached__',\n",
              " '__doc__',\n",
              " '__file__',\n",
              " '__license__',\n",
              " '__loader__',\n",
              " '__name__',\n",
              " '__package__',\n",
              " '__path__',\n",
              " '__spec__',\n",
              " '__version__',\n",
              " 'api',\n",
              " 'auth',\n",
              " 'binder',\n",
              " 'cache',\n",
              " 'cursor',\n",
              " 'debug',\n",
              " 'error',\n",
              " 'models',\n",
              " 'parsers',\n",
              " 'streaming',\n",
              " 'utils']"
            ]
          },
          "metadata": {
            "tags": []
          },
          "execution_count": 4
        }
      ]
    },
    {
      "cell_type": "code",
      "metadata": {
        "id": "G5ljqIjIOgk1",
        "colab_type": "code",
        "colab": {}
      },
      "source": [
        "# connecting to jump server of twitter\n",
        "auth=tweepy.OAuthHandler(consumer_key,consumer_sec)"
      ],
      "execution_count": 0,
      "outputs": []
    },
    {
      "cell_type": "code",
      "metadata": {
        "id": "NlB2ZDm1O1_n",
        "colab_type": "code",
        "colab": {}
      },
      "source": [
        "# now we can connect from jump server to web server of twitter\n",
        "auth.set_access_token(access_token,access_sec)"
      ],
      "execution_count": 0,
      "outputs": []
    },
    {
      "cell_type": "code",
      "metadata": {
        "id": "i4vBg-m0PTY_",
        "colab_type": "code",
        "colab": {}
      },
      "source": [
        "# now we can connect to API storage server of twitter\n",
        "api_connect=tweepy.API(auth)"
      ],
      "execution_count": 0,
      "outputs": []
    },
    {
      "cell_type": "code",
      "metadata": {
        "id": "X9lKxQyqPi3B",
        "colab_type": "code",
        "colab": {}
      },
      "source": [
        "# now you can search any topic on twitter\n",
        "tweet_data=api_connect.search('Pakistan',count=20)"
      ],
      "execution_count": 0,
      "outputs": []
    },
    {
      "cell_type": "code",
      "metadata": {
        "id": "M7ISjVwzPtYB",
        "colab_type": "code",
        "outputId": "45da1535-9773-445d-e544-cc5390b7c34e",
        "colab": {
          "base_uri": "https://localhost:8080/",
          "height": 1000
        }
      },
      "source": [
        "# printin line by line\n",
        "pos=0\n",
        "neg=0\n",
        "neu=0\n",
        "for tweet in tweet_data:\n",
        "  #print(tweet.text)\n",
        "  analysis=TextBlob(tweet.text)         # Here it will apply NLP\n",
        "  print(analysis.sentiment)\n",
        "  \n",
        "  # now checking polarity only\n",
        "  if analysis.sentiment.polarity>0:\n",
        "    print(\"Positive\")\n",
        "    pos=pos+1\n",
        "  elif analysis.sentiment.polarity==0:\n",
        "    print(\"Neutral\")\n",
        "    neu=neu+1\n",
        "  else:\n",
        "    print(\"Negative\")\n",
        "    neg=neg+1\n",
        "\n",
        "    \n",
        "# plotting graph\n",
        "plt.xlabel('Tags')\n",
        "plt.ylabel('Polarity')\n",
        "#plt.bar(['pos','neg','neu'],[pos,neg,neu])\n",
        "\n",
        "plt.pie([pos,neg,neu],labels=['pos','neg','neu'])"
      ],
      "execution_count": 0,
      "outputs": [
        {
          "output_type": "stream",
          "text": [
            "Sentiment(polarity=0.20000000000000004, subjectivity=0.16666666666666666)\n",
            "Positive\n",
            "Sentiment(polarity=0.25, subjectivity=0.3333333333333333)\n",
            "Positive\n",
            "Sentiment(polarity=0.35714285714285715, subjectivity=0.5714285714285714)\n",
            "Positive\n",
            "Sentiment(polarity=0.0, subjectivity=0.06666666666666667)\n",
            "Neutral\n",
            "Sentiment(polarity=-0.2, subjectivity=0.0)\n",
            "Negative\n",
            "Sentiment(polarity=0.3, subjectivity=0.45)\n",
            "Positive\n",
            "Sentiment(polarity=0.0, subjectivity=0.0)\n",
            "Neutral\n",
            "Sentiment(polarity=0.0, subjectivity=0.0)\n",
            "Neutral\n",
            "Sentiment(polarity=0.8, subjectivity=0.4)\n",
            "Positive\n",
            "Sentiment(polarity=0.0, subjectivity=0.0)\n",
            "Neutral\n",
            "Sentiment(polarity=-0.05, subjectivity=0.4)\n",
            "Negative\n",
            "Sentiment(polarity=0.0, subjectivity=0.0)\n",
            "Neutral\n",
            "Sentiment(polarity=-0.1, subjectivity=0.1)\n",
            "Negative\n",
            "Sentiment(polarity=0.0, subjectivity=0.0)\n",
            "Neutral\n",
            "Sentiment(polarity=0.0, subjectivity=0.0)\n",
            "Neutral\n",
            "Sentiment(polarity=0.0, subjectivity=1.0)\n",
            "Neutral\n",
            "Sentiment(polarity=0.525, subjectivity=0.3666666666666667)\n",
            "Positive\n",
            "Sentiment(polarity=0.35714285714285715, subjectivity=0.5714285714285714)\n",
            "Positive\n",
            "Sentiment(polarity=0.0, subjectivity=0.0)\n",
            "Neutral\n"
          ],
          "name": "stdout"
        },
        {
          "output_type": "execute_result",
          "data": {
            "text/plain": [
              "([<matplotlib.patches.Wedge at 0x7fbc96dc4780>,\n",
              "  <matplotlib.patches.Wedge at 0x7fbc96dc40b8>,\n",
              "  <matplotlib.patches.Wedge at 0x7fbc96dc1b00>],\n",
              " [Text(0.44186498201010455, 1.0073506527883973, 'pos'),\n",
              "  Text(-1.0403989482703737, 0.35716946739314165, 'neg'),\n",
              "  Text(0.09083724220568594, -1.0962429454406837, 'neu')])"
            ]
          },
          "metadata": {
            "tags": []
          },
          "execution_count": 35
        },
        {
          "output_type": "display_data",
          "data": {
            "image/png": "[encoded data removed]",
            "text/plain": [
              "<Figure size 432x288 with 1 Axes>"
            ]
          },
          "metadata": {
            "tags": []
          }
        }
      ]
    },
    {
      "cell_type": "code",
      "metadata": {
        "id": "pW1UwXWiQL--",
        "colab_type": "code",
        "colab": {}
      },
      "source": [
        ""
      ],
      "execution_count": 0,
      "outputs": []
    }
  ]
}